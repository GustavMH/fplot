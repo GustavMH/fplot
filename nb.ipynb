{
 "cells": [
  {
   "cell_type": "code",
   "execution_count": null,
   "id": "4ca4723e",
   "metadata": {},
   "outputs": [],
   "source": [
    "from fplot import multiplot"
   ]
  },
  {
   "cell_type": "code",
   "execution_count": null,
   "id": "13296048",
   "metadata": {},
   "outputs": [],
   "source": [
    "multiplot(\"scatter\", \n",
    "          [[[[1,2,3,3],[3,3,2,1]],\n",
    "            [[1,2,3,3],[3,3,2,1]]],\n",
    "           [[[1,2,3,3],[3,3,2,1]],\n",
    "            [[1,2,3,3],[3,3,2,1]]]], \n",
    "          style={\"suptitle\": \"ogolo\"})"
   ]
  },
  {
   "cell_type": "code",
   "execution_count": null,
   "id": "76756441",
   "metadata": {
    "scrolled": false
   },
   "outputs": [],
   "source": [
    "multiplot(\"scatter\", \n",
    "          [[[1,2,3,3],[3,3,2,1]],\n",
    "           [[1,2,3,3],[3,3,2,1]]], \n",
    "          style={\"suptitle\": \"ogolo\"})"
   ]
  },
  {
   "cell_type": "code",
   "execution_count": null,
   "id": "86428490",
   "metadata": {},
   "outputs": [],
   "source": [
    "multiplot(\"scatter\", [[1,2,3,3],[3,3,2,1]])"
   ]
  },
  {
   "cell_type": "code",
   "execution_count": null,
   "id": "7185ce4f",
   "metadata": {},
   "outputs": [],
   "source": [
    "from fplot import flatten_to_depth, get_shape"
   ]
  },
  {
   "cell_type": "code",
   "execution_count": null,
   "id": "d07745b6",
   "metadata": {},
   "outputs": [],
   "source": [
    "flatten_to_depth([[1],[2]], 1) == [1,2] and \\\n",
    "flatten_to_depth([[1],[2]], 2) == [[1],[2]]"
   ]
  },
  {
   "cell_type": "code",
   "execution_count": null,
   "id": "bb8c4874",
   "metadata": {},
   "outputs": [],
   "source": [
    "get_shape([1]) == (1,) and \\\n",
    "get_shape([2,2]) == (2,) and \\\n",
    "get_shape([[2],[3]]) == (2,1,)"
   ]
  }
 ],
 "metadata": {
  "kernelspec": {
   "display_name": "Python 3 (ipykernel)",
   "language": "python",
   "name": "python3"
  },
  "language_info": {
   "codemirror_mode": {
    "name": "ipython",
    "version": 3
   },
   "file_extension": ".py",
   "mimetype": "text/x-python",
   "name": "python",
   "nbconvert_exporter": "python",
   "pygments_lexer": "ipython3",
   "version": "3.10.8"
  }
 },
 "nbformat": 4,
 "nbformat_minor": 5
}
